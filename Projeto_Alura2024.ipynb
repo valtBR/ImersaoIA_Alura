{
  "nbformat": 4,
  "nbformat_minor": 0,
  "metadata": {
    "colab": {
      "provenance": [],
      "mount_file_id": "1_fWPa9AbJCXUZhDatLjvaLR3KgUCzlaP",
      "authorship_tag": "ABX9TyMJTFmHokU5QNwWBo/GBh9C",
      "include_colab_link": true
    },
    "kernelspec": {
      "name": "python3",
      "display_name": "Python 3"
    },
    "language_info": {
      "name": "python"
    }
  },
  "cells": [
    {
      "cell_type": "markdown",
      "metadata": {
        "id": "view-in-github",
        "colab_type": "text"
      },
      "source": [
        "<a href=\"https://colab.research.google.com/github/valtBR/ImersaoIA_Alura/blob/main/Projeto_Alura2024.ipynb\" target=\"_parent\"><img src=\"https://colab.research.google.com/assets/colab-badge.svg\" alt=\"Open In Colab\"/></a>"
      ]
    },
    {
      "cell_type": "code",
      "execution_count": null,
      "metadata": {
        "id": "ryDmK__EWdb1"
      },
      "outputs": [],
      "source": [
        "#Instalando o SDK do google\n",
        "!pip install -q -U google-generativeai"
      ]
    },
    {
      "cell_type": "code",
      "source": [
        "# Import the Python SDK\n",
        "from pathlib import Path\n",
        "import hashlib\n",
        "import google.generativeai as genai\n",
        "from google.colab import userdata\n",
        "api_key = userdata.get('SECRET_KEY')\n",
        "genai.configure(api_key=api_key)"
      ],
      "metadata": {
        "id": "hfpR1QaGWmsD"
      },
      "execution_count": 48,
      "outputs": []
    },
    {
      "cell_type": "code",
      "source": [
        "#Indicando qual modelo será usado\n",
        "model = genai.GenerativeModel(model_name=\"gemini-1.5-pro-latest\")"
      ],
      "metadata": {
        "id": "1Kumbt-dWr2M"
      },
      "execution_count": 56,
      "outputs": []
    },
    {
      "cell_type": "code",
      "source": [
        "#upload dos few-shots e o código para fazer o input do caminho da imagem teste\n",
        "uploaded_files = []\n",
        "\n",
        "def upload_if_needed(pathname:str) -> list[str]:\n",
        "  path = Path(pathname)\n",
        "  hash_id = hashlib.sha256(path.read_bytes()).hexdigest()\n",
        "  try:\n",
        "    existing_file = genai.get_file(name=hash_id)\n",
        "    return [existing_file]\n",
        "  except:\n",
        "    pass\n",
        "  uploaded_files.append(genai.upload_file(path=path, display_name=hash_id))\n",
        "  return [uploaded_files[-1]]\n",
        "\n",
        "Dish_image_path = input(\"Petri Dish Image file path: \")\n",
        "\n",
        "prompt_parts = [\n",
        "    \"Count the number of colonies in the petri dishes\",\n",
        "    \"Petri dish image: \",\n",
        "    *upload_if_needed(\"/content/drive/MyDrive/Plates/dish1.jpg\"),\n",
        "    \"Colonies: 94\",\n",
        "    \"Petri Dish image: \",\n",
        "    *upload_if_needed(\"/content/drive/MyDrive/Plates/dish2.jpg\"),\n",
        "    \"Colonies: 66\",\n",
        "    \"Petri Dish image: \",\n",
        "    *upload_if_needed(Dish_image_path),\n",
        "    \"Colonies: \",\n",
        "]\n",
        "\n",
        "response = model.generate_content(prompt_parts)\n",
        "print(f'Number of colonies in uploaded image: {response.text}')\n",
        "\n",
        "# no drive, deixei dois arquivos que podem ser usados como input:\n",
        "# /content/drive/MyDrive/Plates/test1.jpg\n",
        "# /content/drive/MyDrive/Plates/test2.jpg"
      ],
      "metadata": {
        "colab": {
          "base_uri": "https://localhost:8080/",
          "height": 53
        },
        "id": "IwN1gPIYWuld",
        "outputId": "cd2184cd-2af6-4cd7-aafa-0d4d86ee9c1e"
      },
      "execution_count": 78,
      "outputs": [
        {
          "output_type": "stream",
          "name": "stdout",
          "text": [
            "Petri Dish Image file path: /content/drive/MyDrive/Plates/test1.jpg\n",
            "Number of colonies in uploaded image: 62\n"
          ]
        }
      ]
    }
  ]
}